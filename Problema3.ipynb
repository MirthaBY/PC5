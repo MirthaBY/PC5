{
 "cells": [
  {
   "cell_type": "markdown",
   "metadata": {},
   "source": [
    "# Problema 3 - Análisis Datos Youtube - Archivo .py"
   ]
  },
  {
   "cell_type": "markdown",
   "metadata": {},
   "source": [
    "1. Descargar un archivo .zip mediante código del siguiente url (https://netsg.cs.sfu.ca/youtubedata/) (recomiendo descargar el archivo 0333.zip que es menos pesado)\n",
    "2. Descomprimir los datos en una carpeta que genere y leer mediante pandas alguno de los archivos en esta. (observar que no es necesario en un primer momento leer los datos con un nombre de columna especifico)\n",
    "\n",
    "    - Los nombres de columna pueden ser puestos posteriormente\n",
    "    - El separador de columna es <code>\\t</code>\n",
    "    - Se colocan los nombres de columnas y descripción asociada para su intermetación. Ejemplo columna1 sera VideoID ... \n",
    "    \n",
    "\n",
    "3. Procesar los datos según: \n",
    "    - Nos quedaremos con las columnas: VideoID, edad, catgoria, views, rate.\n",
    "    - Realizar un filtrado básico a los datos. Ejemplo solo seleccionar cierto grupo de categorias\n",
    "\n",
    "4. Procesamiento en Mongo Db\n",
    "    - Exportar los datos a mongo DB \n",
    "    - Compartir link donde encontrar los datos \n",
    "\n",
    "\n"
   ]
  },
  {
   "cell_type": "code",
   "execution_count": null,
   "metadata": {},
   "outputs": [],
   "source": [
    "import requests, zipfile, io\n",
    "\n",
    "url = \"https://netsg.cs.sfu.ca/youtubedata/0333.zip\"\n",
    "r = requests.get(url)\n",
    "r.raise_for_status()\n",
    "z = zipfile.ZipFile(io.BytesIO(r.content))\n",
    "z.extractall(\"datos_youtube_0333\")\n",
    "\n",
    "import pandas as pd\n",
    "import glob\n",
    "from zipfile import ZipFile\n",
    "\n",
    "# Encuentra todos los .txt dentro de esa carpeta:\n",
    "filepaths = glob.glob(\"datos_youtube_0333/*.txt\")\n",
    "\n",
    "dfs = []\n",
    "for fp in filepaths:\n",
    "    # leer cada archivo como TSV sin encabezado\n",
    "    df = pd.read_csv(fp, sep=\"\\t\", header=None)\n",
    "    dfs.append(df)\n",
    "\n",
    "df_all = pd.concat(dfs, ignore_index=True)\n"
   ]
  },
  {
   "cell_type": "code",
   "execution_count": null,
   "metadata": {},
   "outputs": [],
   "source": [
    "df = df_all[[\"VideoID\", \"edad\", \"categoria\", \"views\", \"rate\"]]\n",
    "\n",
    "# por ejemplo: quedarse solo con categorías determinadas:\n",
    "categorias_validas = [\"Music\", \"Sports\", \"News\"]\n",
    "df_filtered = df[df[\"categoria\"].isin(categorias_validas)]\n"
   ]
  },
  {
   "cell_type": "code",
   "execution_count": null,
   "metadata": {},
   "outputs": [],
   "source": [
    "from pymongo import MongoClient\n",
    "\n",
    "client = MongoClient(\"mongodb://localhost:27017/\")\n",
    "db = client[\"youtube_db\"]\n",
    "collection = db[\"videos\"]\n",
    "\n",
    "# Si ya existen datos, puedes limpiar:\n",
    "collection.drop()\n",
    "\n",
    "# Convertir DataFrame a diccionarios y guardar:\n",
    "records = df_filtered.to_dict(orient=\"records\")\n",
    "collection.insert_many(records)\n",
    "\n",
    "print(f\"Guardados {len(records)} documentos en MongoDB\")\n"
   ]
  },
  {
   "cell_type": "markdown",
   "metadata": {},
   "source": [
    "| Nombre de la Columna | Descripción                                                                                                 |\n",
    "|----------------------|-------------------------------------------------------------------------------------------------------------|\n",
    "| `video ID`           | Una cadena de 11 dígitos, la cual es única                                                                |\n",
    "| `uploader`           | Una cadena con el nombre de usuario del cargador del video                                                  |\n",
    "| `age`                | Un número entero que representa los días transcurridos desde la fecha en que se subió el video hasta el 15 de febrero de 2007 (fecha de creación de YouTube) |\n",
    "| `category`           | Una cadena que indica la categoría del video elegida por el cargador                                       |\n",
    "| `length`             | Un número entero que representa la duración del video en minutos                                            |\n",
    "| `views`              | Un número entero que representa el número de visualizaciones del video                                      |\n",
    "| `rate`               | Un número flotante que indica la calificación del video                                                      |\n",
    "| `ratings`            | Un número entero que representa el número de calificaciones recibidas por el video                          |\n",
    "| `comments`           | Un número entero que indica el número de comentarios en el video                                            |\n",
    "| `related IDs`        | Hasta 20 cadenas de texto con los IDs de videos relacionados                                                |\n"
   ]
  },
  {
   "cell_type": "code",
   "execution_count": null,
   "metadata": {},
   "outputs": [],
   "source": []
  }
 ],
 "metadata": {
  "language_info": {
   "name": "python"
  }
 },
 "nbformat": 4,
 "nbformat_minor": 2
}
