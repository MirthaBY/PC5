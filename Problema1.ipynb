{
 "cells": [
  {
   "cell_type": "markdown",
   "metadata": {},
   "source": [
    "# Ejercicio1 - Busqueda de Alojamiento en Airbnb (Jupyter).\n",
    "\n",
    "Supongamos que somos un agente de [Airbnb](http://www.airbnb.com) localizado en Lisboa, y tenemos que atender peticiones de varios clientes. Tenemos un archivo llamado `airbnb.csv` (en la carpeta data) donde tenemos información de todos los alojamientos de Airbnb en Lisboa."
   ]
  },
  {
   "cell_type": "code",
   "execution_count": 1,
   "metadata": {},
   "outputs": [],
   "source": [
    "import pandas as pd\n",
    "df_airbnb = pd.read_csv(\"./data/airbnb.csv\")"
   ]
  },
  {
   "cell_type": "code",
   "execution_count": 2,
   "metadata": {},
   "outputs": [
    {
     "data": {
      "text/html": [
       "<div>\n",
       "<style scoped>\n",
       "    .dataframe tbody tr th:only-of-type {\n",
       "        vertical-align: middle;\n",
       "    }\n",
       "\n",
       "    .dataframe tbody tr th {\n",
       "        vertical-align: top;\n",
       "    }\n",
       "\n",
       "    .dataframe thead th {\n",
       "        text-align: right;\n",
       "    }\n",
       "</style>\n",
       "<table border=\"1\" class=\"dataframe\">\n",
       "  <thead>\n",
       "    <tr style=\"text-align: right;\">\n",
       "      <th></th>\n",
       "      <th>room_id</th>\n",
       "      <th>host_id</th>\n",
       "      <th>room_type</th>\n",
       "      <th>neighborhood</th>\n",
       "      <th>reviews</th>\n",
       "      <th>overall_satisfaction</th>\n",
       "      <th>accommodates</th>\n",
       "      <th>bedrooms</th>\n",
       "      <th>price</th>\n",
       "    </tr>\n",
       "  </thead>\n",
       "  <tbody>\n",
       "    <tr>\n",
       "      <th>0</th>\n",
       "      <td>6499</td>\n",
       "      <td>14455</td>\n",
       "      <td>Entire home/apt</td>\n",
       "      <td>Belém</td>\n",
       "      <td>8</td>\n",
       "      <td>5.0</td>\n",
       "      <td>2</td>\n",
       "      <td>1.0</td>\n",
       "      <td>57.0</td>\n",
       "    </tr>\n",
       "    <tr>\n",
       "      <th>1</th>\n",
       "      <td>17031</td>\n",
       "      <td>66015</td>\n",
       "      <td>Entire home/apt</td>\n",
       "      <td>Alvalade</td>\n",
       "      <td>0</td>\n",
       "      <td>0.0</td>\n",
       "      <td>2</td>\n",
       "      <td>1.0</td>\n",
       "      <td>46.0</td>\n",
       "    </tr>\n",
       "    <tr>\n",
       "      <th>2</th>\n",
       "      <td>25659</td>\n",
       "      <td>107347</td>\n",
       "      <td>Entire home/apt</td>\n",
       "      <td>Santa Maria Maior</td>\n",
       "      <td>63</td>\n",
       "      <td>5.0</td>\n",
       "      <td>3</td>\n",
       "      <td>1.0</td>\n",
       "      <td>69.0</td>\n",
       "    </tr>\n",
       "    <tr>\n",
       "      <th>3</th>\n",
       "      <td>29248</td>\n",
       "      <td>125768</td>\n",
       "      <td>Entire home/apt</td>\n",
       "      <td>Santa Maria Maior</td>\n",
       "      <td>225</td>\n",
       "      <td>4.5</td>\n",
       "      <td>4</td>\n",
       "      <td>1.0</td>\n",
       "      <td>58.0</td>\n",
       "    </tr>\n",
       "    <tr>\n",
       "      <th>4</th>\n",
       "      <td>29396</td>\n",
       "      <td>126415</td>\n",
       "      <td>Entire home/apt</td>\n",
       "      <td>Santa Maria Maior</td>\n",
       "      <td>132</td>\n",
       "      <td>5.0</td>\n",
       "      <td>4</td>\n",
       "      <td>1.0</td>\n",
       "      <td>67.0</td>\n",
       "    </tr>\n",
       "  </tbody>\n",
       "</table>\n",
       "</div>"
      ],
      "text/plain": [
       "   room_id  host_id        room_type       neighborhood  reviews  \\\n",
       "0     6499    14455  Entire home/apt              Belém        8   \n",
       "1    17031    66015  Entire home/apt           Alvalade        0   \n",
       "2    25659   107347  Entire home/apt  Santa Maria Maior       63   \n",
       "3    29248   125768  Entire home/apt  Santa Maria Maior      225   \n",
       "4    29396   126415  Entire home/apt  Santa Maria Maior      132   \n",
       "\n",
       "   overall_satisfaction  accommodates  bedrooms  price  \n",
       "0                   5.0             2       1.0   57.0  \n",
       "1                   0.0             2       1.0   46.0  \n",
       "2                   5.0             3       1.0   69.0  \n",
       "3                   4.5             4       1.0   58.0  \n",
       "4                   5.0             4       1.0   67.0  "
      ]
     },
     "execution_count": 2,
     "metadata": {},
     "output_type": "execute_result"
    }
   ],
   "source": [
    "df_airbnb.head()"
   ]
  },
  {
   "cell_type": "markdown",
   "metadata": {},
   "source": [
    "En concreto el dataset tiene las siguientes variables:\n",
    "- room_id: el identificador de la propiedad\n",
    "- host_id: el identificador del dueño de la propiedad\n",
    "- room_type: tipo de propiedad (vivienda completa/(habitacion para compartir/habitación privada)\n",
    "- neighborhood: el barrio de Lisboa\n",
    "- reviews: El numero de opiniones\n",
    "- overall_satisfaction: Puntuacion media del apartamento\n",
    "- accommodates: El numero de personas que se pueden alojar en la propiedad\n",
    "- bedrooms: El número de habitaciones\n",
    "- price: El precio (en euros) por noche"
   ]
  },
  {
   "cell_type": "markdown",
   "metadata": {},
   "source": [
    "## Ejercicios"
   ]
  },
  {
   "cell_type": "markdown",
   "metadata": {},
   "source": [
    "### 1. Realizar Análisis Exploratorio de los datos"
   ]
  },
  {
   "cell_type": "markdown",
   "metadata": {},
   "source": [
    "Sobre este apartado deberá explorar los datos como se vio en clase .. aplicar métodos shape, columns, etc"
   ]
  },
  {
   "cell_type": "code",
   "execution_count": null,
   "metadata": {},
   "outputs": [],
   "source": [
    "df.shape\n",
    "\n",
    "\n",
    "df.head()     # Muestra las primeras 5 filas\n",
    "\n"
   ]
  },
  {
   "cell_type": "markdown",
   "metadata": {},
   "source": [
    "df.tail(10)   # Muestra las últimas 10 filas\n"
   ]
  },
  {
   "cell_type": "code",
   "execution_count": null,
   "metadata": {},
   "outputs": [],
   "source": [
    "\n",
    "df.info()\n"
   ]
  },
  {
   "cell_type": "code",
   "execution_count": null,
   "metadata": {},
   "outputs": [],
   "source": [
    "\n",
    "df.dtypes"
   ]
  },
  {
   "cell_type": "code",
   "execution_count": null,
   "metadata": {},
   "outputs": [],
   "source": []
  },
  {
   "cell_type": "markdown",
   "metadata": {},
   "source": [
    "### 2. Realizar Filtrados a Datos\n",
    "\n",
    "- Realizar filtrados, según sea el caso. \n",
    "\n",
    "\n",
    "Nota: \n",
    "Para obtener el top de un conjunto de datos debemos aplicar un head(n) además de ordenar los datos"
   ]
  },
  {
   "cell_type": "markdown",
   "metadata": {},
   "source": [
    "#### Caso 1.\n",
    "\n",
    "Alicia va a ir a Lisboa durante una semana con su marido y sus 2 hijos. Están buscando un apartamento con habitaciones separadas para los padres y los hijos. No les importa donde alojarse o el precio, simplemente quieren tener una experiencia agradable. Esto significa que solo aceptan lugares con más de 10 críticas con una puntuación mayor de 4. Cuando seleccionemos habitaciones para Alicia, tenemos que asegurarnos de ordenar las habitaciones de mejor a peor puntuación. Para aquellas habitaciones que tienen la misma puntuación, debemos mostrar antes aquellas con más críticas. Debemos darle 3 alternativas."
   ]
  },
  {
   "cell_type": "markdown",
   "metadata": {},
   "source": [
    "from typing import List, Dict, Any\n",
    "\n",
    "def seleccionar_apartamentos(data: List[Dict[str, Any]], n_alternativas: int = 3) -> List[Dict[str, Any]]:\n",
    "    \"\"\"\n",
    "    data: lista de apartamentos, cada uno es dict con keys:\n",
    "      - 'nombre': str\n",
    "      - 'habitaciones': lista de dicts con keys:\n",
    "          - 'nombre': str\n",
    "          - 'puntuacion': float\n",
    "          - 'num_criticas': int\n",
    "    Devuelve una lista de hasta n_alternativas apartamentos:\n",
    "      cada uno incluye solo las habitaciones válidas ordenadas.\n",
    "    \"\"\"\n",
    "    candidatos = []\n",
    "\n",
    "    for apt in data:\n",
    "        habitaciones_validas = [\n",
    "            h for h in apt['habitaciones']\n",
    "            if h['num_criticas'] > 10 and h['puntuacion'] > 4.0\n",
    "        ]\n",
    "        if not habitaciones_validas:\n",
    "            continue\n",
    "\n",
    "        # ordenar habitaciones: por puntuación desc, luego por num_criticas desc\n",
    "        habitaciones_validas.sort(key=lambda h: (-h['puntuacion'], -h['num_criticas']))\n",
    "\n",
    "        # promedio de puntuación entre habitaciones válidas\n",
    "        promedio = sum(h['puntuacion'] for h in habitaciones_validas) / len(habitaciones_validas)\n",
    "\n",
    "        candidatos.append({\n",
    "            'nombre': apt['nombre'],\n",
    "            'habitaciones': habitaciones_validas,\n",
    "            'promedio_puntuacion': promedio\n",
    "        })\n",
    "\n",
    "    # ordenar apartamentos por promedio de puntuación de sus habitaciones válidas desc\n",
    "    candidatos.sort(key=lambda a: -a['promedio_puntuacion'])\n",
    "\n",
    "    # devolver las top n_alternativas\n",
    "    return candidatos[:n_alternativas]\n",
    "\n",
    "# Ejemplo de uso:\n",
    "apartamentos = [\n",
    "    {\n",
    "        'nombre': 'Apto Centro Lisboa',\n",
    "        'habitaciones': [\n",
    "            {'nombre': 'Padres', 'puntuacion': 4.7, 'num_criticas': 50},\n",
    "            {'nombre': 'Niños', 'puntuacion': 4.5, 'num_criticas': 12},\n",
    "            {'nombre': 'Extra', 'puntuacion': 3.9, 'num_criticas': 20},\n",
    "        ]\n",
    "    },\n",
    "    {\n",
    "        'nombre': 'Apto Alfama',\n",
    "        'habitaciones': [\n",
    "            {'nombre': 'Padres', 'puntuacion': 4.9, 'num_criticas': 8},\n",
    "            {'nombre': 'Niños', 'puntuacion': 4.6, 'num_criticas': 15},\n",
    "        ]\n",
    "    },\n",
    "    {\n",
    "        'nombre': 'Apto Belem',\n",
    "        'habitaciones': [\n",
    "            {'nombre': 'Padres', 'puntuacion': 4.8, 'num_criticas': 30},\n",
    "            {'nombre': 'Niños', 'puntuacion': 4.8, 'num_criticas': 25},\n",
    "            {'nombre': 'Niños2', 'puntuacion': 4.7, 'num_criticas': 18},\n",
    "        ]\n",
    "    },\n",
    "    {\n",
    "        'nombre': 'Apto Barrio Moderno',\n",
    "        'habitaciones': [\n",
    "            {'nombre': 'Padres', 'puntuacion': 4.3, 'num_criticas': 22},\n",
    "            {'nombre': 'Niños', 'puntuacion': 4.2, 'num_criticas': 11},\n",
    "        ]\n",
    "    },\n",
    "]\n",
    "\n",
    "seleccion = seleccionar_apartamentos(apartamentos, n_alternativas=3)\n",
    "for apt in seleccion:\n",
    "    print(f\"Apartamento: {apt['nombre']} (promedio {apt['promedio_puntuacion']:.2f})\")\n",
    "    for h in apt['habitaciones']:\n",
    "        print(f\"  - Habitacion {h['nombre']}: puntuación {h['puntuacion']}, reseñas {h['num_criticas']}\")\n"
   ]
  },
  {
   "cell_type": "markdown",
   "metadata": {},
   "source": [
    "#### Caso 2\n",
    "\n",
    "Roberto es un casero que tiene una casa en Airbnb. De vez en cuando nos llama preguntando sobre cuales son las críticas de su alojamiento. Hoy está particularmente enfadado, ya que su hermana Clara ha puesto una casa en Airbnb y Roberto quiere asegurarse de que su casa tiene más críticas que las de Clara. Tenemos que crear un dataframe con las propiedades de ambos. Las id de las casas de Roberto y Clara son 97503 y 90387  respectivamente. Finalmente guardamos este dataframe como excel llamado \"roberto.xls"
   ]
  },
  {
   "cell_type": "code",
   "execution_count": null,
   "metadata": {
    "tags": []
   },
   "outputs": [],
   "source": [
    "import requests\n",
    "from bs4 import BeautifulSoup\n",
    "import pandas as pd\n",
    "\n",
    "# IDs de las casas\n",
    "ids = [97503, 90387]\n",
    "data = []\n",
    "\n",
    "for listing_id in ids:\n",
    "    url = f\"https://www.airbnb.com/rooms/{listing_id}\"\n",
    "    headers = {\n",
    "        \"User-Agent\": \"Mozilla/5.0\"\n",
    "    }\n",
    "    resp = requests.get(url, headers=headers)\n",
    "    resp.raise_for_status()\n",
    "    soup = BeautifulSoup(resp.text, \"html.parser\")\n",
    "    # Ejemplo: localizar el elemento que contiene el número de reseñas\n",
    "    # (necesitas ajustar de acuerdo al HTML actual de Airbnb)\n",
    "    rev_span = soup.find(\"span\", string=lambda txt: txt and \"reviews\" in txt.lower())\n",
    "    if rev_span:\n",
    "        # extraer el número\n",
    "        num = int(rev_span.get_text().split()[0].replace(\",\", \"\"))\n",
    "    else:\n",
    "        num = None\n",
    "    data.append({\n",
    "        \"owner\": \"Roberto\" if listing_id == 97503 else \"Clara\",\n",
    "        \"listing_id\": listing_id,\n",
    "        \"num_reviews\": num\n",
    "    })\n",
    "\n",
    "df = pd.DataFrame(data)\n",
    "df[\"más_que_Clara\"] = df.apply(lambda row: row[\"num_reviews\"] > df.loc[df[\"owner\"]==\"Clara\",\"num_reviews\"].iloc[0], axis=1)\n",
    "\n",
    "# Guardar como Excel\n",
    "df.to_excel(\"roberto.xls\", index=False)\n",
    "print(df)\n"
   ]
  },
  {
   "cell_type": "markdown",
   "metadata": {},
   "source": [
    "\n",
    "#### Caso 3\n",
    "\n",
    "Diana va a Lisboa a pasar 3 noches y quiere conocer a gente nueva. Tiene un presupuesto de 50€ para su alojamiento. Debemos buscarle las 10 propiedades más baratas, dandole preferencia a aquellas que sean habitaciones compartidas *(room_type == Shared room)*, y para aquellas viviendas compartidas debemos elegir aquellas con mejor puntuación."
   ]
  },
  {
   "cell_type": "code",
   "execution_count": null,
   "metadata": {
    "tags": []
   },
   "outputs": [],
   "source": [
    "import pandas as pd\n",
    "\n",
    "# Cargar el dataset (reemplaza con tu archivo real)\n",
    "# df = pd.read_csv('listings_lisboa.csv')\n",
    "\n",
    "# Simulación de datos (elimina esta parte si ya tienes tu dataset)\n",
    "data = {\n",
    "    'name': ['Prop1', 'Prop2', 'Prop3', 'Prop4', 'Prop5', 'Prop6', 'Prop7', 'Prop8', 'Prop9', 'Prop10', 'Prop11'],\n",
    "    'price': [18, 22, 25, 30, 28, 19, 20, 23, 35, 40, 21],\n",
    "    'room_type': ['Shared room', 'Private room', 'Shared room', 'Entire home/apt', 'Shared room', \n",
    "                  'Shared room', 'Private room', 'Shared room', 'Shared room', 'Private room', 'Shared room'],\n",
    "    'review_scores_rating': [90, 85, 80, 70, 95, 92, 88, 85, 75, 80, 99]\n",
    "}\n",
    "df = pd.DataFrame(data)\n",
    "\n",
    "# Filtrar por presupuesto máximo\n",
    "df_filtered = df[df['price'] <= 50]\n",
    "\n",
    "# Separar en compartidas y otras\n",
    "shared_rooms = df_filtered[df_filtered['room_type'] == 'Shared room'].sort_values(by='review_scores_rating', ascending=False)\n",
    "other_rooms = df_filtered[df_filtered['room_type'] != 'Shared room'].sort_values(by='price')\n",
    "\n",
    "# Combinar dando prioridad a compartidas con mejor puntuación\n",
    "result = pd.concat([shared_rooms, other_rooms]).head(10)\n",
    "\n",
    "# Mostrar resultados\n",
    "print(result[['name', 'price', 'room_type', 'review_scores_rating']])\n"
   ]
  },
  {
   "cell_type": "markdown",
   "metadata": {},
   "source": [
    "### 3. Realizar Agrupamientos de Datos\n",
    "\n",
    "\n",
    "- Según su criterio, aplicar 2 tipos de agrupamientos a los datos brindados. \n",
    "- **Opcional**, averiguar como realizar el gráfico de los 2 agrupamientos de los datos realizados. Se podría emplear librerias como mathplot y searbon ... ayudarse de chatgtp, etc\n"
   ]
  },
  {
   "cell_type": "code",
   "execution_count": null,
   "metadata": {},
   "outputs": [],
   "source": [
    "data = pd.DataFrame({\n",
    "    'genero': ['M', 'F', 'M', 'F'],\n",
    "    'edad': [25, 25, 30, 30],\n",
    "    'ingresos': [2000, 2200, 2500, 2700]\n",
    "})\n",
    "sns.barplot(data=data, x='edad', y='ingresos', hue='genero')\n"
   ]
  }
 ],
 "metadata": {
  "kernelspec": {
   "display_name": "Python 3 (ipykernel)",
   "language": "python",
   "name": "python3"
  },
  "language_info": {
   "codemirror_mode": {
    "name": "ipython",
    "version": 3
   },
   "file_extension": ".py",
   "mimetype": "text/x-python",
   "name": "python",
   "nbconvert_exporter": "python",
   "pygments_lexer": "ipython3",
   "version": "3.10.13"
  }
 },
 "nbformat": 4,
 "nbformat_minor": 4
}
